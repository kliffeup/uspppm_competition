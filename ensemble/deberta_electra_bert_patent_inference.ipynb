{
 "cells": [
  {
   "cell_type": "code",
   "execution_count": null,
   "metadata": {
    "_cell_guid": "b1076dfc-b9ad-4769-8c92-a6c4dae69d19",
    "_uuid": "8f2839f25d086af736a60e9eeb907d3b93b6e0e5",
    "execution": {
     "iopub.execute_input": "2022-05-15T13:20:55.908057Z",
     "iopub.status.busy": "2022-05-15T13:20:55.907591Z",
     "iopub.status.idle": "2022-05-15T13:21:04.916236Z",
     "shell.execute_reply": "2022-05-15T13:21:04.915336Z",
     "shell.execute_reply.started": "2022-05-15T13:20:55.907928Z"
    }
   },
   "outputs": [],
   "source": [
    "import os\n",
    "import pandas as pd\n",
    "import numpy as np\n",
    "from sklearn.model_selection import KFold, StratifiedKFold\n",
    "import shutil\n",
    "\n",
    "from torch.utils.data import DataLoader, Dataset\n",
    "import datasets, transformers\n",
    "\n",
    "from transformers import TrainingArguments, Trainer\n",
    "from transformers import AutoModelForSequenceClassification, AutoTokenizer\n",
    "\n",
    "os.environ['WANDB_DISABLED'] = 'true'"
   ]
  },
  {
   "cell_type": "markdown",
   "metadata": {},
   "source": [
    "# Test data preprocessing"
   ]
  },
  {
   "cell_type": "code",
   "execution_count": null,
   "metadata": {
    "execution": {
     "iopub.execute_input": "2022-05-15T13:21:08.207645Z",
     "iopub.status.busy": "2022-05-15T13:21:08.206938Z",
     "iopub.status.idle": "2022-05-15T13:21:08.21489Z",
     "shell.execute_reply": "2022-05-15T13:21:08.213708Z",
     "shell.execute_reply.started": "2022-05-15T13:21:08.20761Z"
    }
   },
   "outputs": [],
   "source": [
    "class InferDataset(Dataset):\n",
    "    def __init__(self, df):\n",
    "        self.inputs = df['input'].values.astype(str)\n",
    "        self.targets = df['target'].values.astype(str)\n",
    "\n",
    "    def __len__(self):\n",
    "        return len(self.inputs)\n",
    "\n",
    "    def __getitem__(self, item):\n",
    "        inputs = self.inputs[item]\n",
    "        targets = self.targets[item]\n",
    "        \n",
    "        return {\n",
    "        **tokenizer( inputs, targets )\n",
    "    }"
   ]
  },
  {
   "cell_type": "code",
   "execution_count": null,
   "metadata": {
    "execution": {
     "iopub.execute_input": "2022-05-15T13:21:08.71595Z",
     "iopub.status.busy": "2022-05-15T13:21:08.715441Z",
     "iopub.status.idle": "2022-05-15T13:21:09.561422Z",
     "shell.execute_reply": "2022-05-15T13:21:09.560486Z",
     "shell.execute_reply.started": "2022-05-15T13:21:08.715915Z"
    }
   },
   "outputs": [],
   "source": [
    "test_df = pd.read_csv(f'/kaggle/input/us-patent-phrase-to-phrase-matching/test.csv')\n",
    "titles = pd.read_csv('/kaggle/input/cpc-codes/titles.csv')\n",
    "test_df = test_df.merge(titles, left_on='context', right_on='code')\n",
    "test_df['input'] = test_df['title'] + '[SEP]' + test_df['anchor']"
   ]
  },
  {
   "cell_type": "code",
   "execution_count": null,
   "metadata": {},
   "outputs": [],
   "source": [
    "title + [SEP] + anchor + [SEP] + target + [SEP]"
   ]
  },
  {
   "cell_type": "code",
   "execution_count": null,
   "metadata": {},
   "outputs": [],
   "source": [
    "sentence1 + [SEP] + sentence2 + [END]"
   ]
  },
  {
   "cell_type": "markdown",
   "metadata": {},
   "source": [
    "\n",
    "# 1. deberta_v3_large_5_folds"
   ]
  },
  {
   "cell_type": "code",
   "execution_count": null,
   "metadata": {
    "execution": {
     "iopub.execute_input": "2022-05-15T13:21:11.075224Z",
     "iopub.status.busy": "2022-05-15T13:21:11.071886Z",
     "iopub.status.idle": "2022-05-15T13:21:11.083891Z",
     "shell.execute_reply": "2022-05-15T13:21:11.082747Z",
     "shell.execute_reply.started": "2022-05-15T13:21:11.075174Z"
    }
   },
   "outputs": [],
   "source": [
    "class CFG_DEBERTA:\n",
    "    input_path = '/kaggle/input/us-patent-phrase-to-phrase-matching/'\n",
    "    model_path = '/kaggle/input/deberta-v3-large/deberta/'\n",
    "    model_4_path = '/kaggle/input/deberta-v3-large/deberta_4/'\n",
    "    \n",
    "    learning_rate = 8.270853307579581e-06\n",
    "    weight_decay = 0.01\n",
    "    num_fold = 4\n",
    "    epochs = 1\n",
    "    batch_size = 10"
   ]
  },
  {
   "cell_type": "code",
   "execution_count": null,
   "metadata": {
    "execution": {
     "iopub.execute_input": "2022-05-15T13:21:11.604869Z",
     "iopub.status.busy": "2022-05-15T13:21:11.604558Z",
     "iopub.status.idle": "2022-05-15T13:23:04.47195Z",
     "shell.execute_reply": "2022-05-15T13:23:04.471032Z",
     "shell.execute_reply.started": "2022-05-15T13:21:11.604837Z"
    }
   },
   "outputs": [],
   "source": [
    "predictions_deberta = []\n",
    "\n",
    "for fold in range(CFG_DEBERTA.num_fold):\n",
    "    test_dataset = InferDataset(test_df)\n",
    "    tokenizer = AutoTokenizer.from_pretrained(CFG_DEBERTA.model_path + f'deberta_{fold}/')\n",
    "    model = AutoModelForSequenceClassification.from_pretrained(CFG_DEBERTA.model_path + f'deberta_{fold}/', num_labels=1)\n",
    "    trainer = Trainer(\n",
    "            model,\n",
    "            tokenizer=tokenizer\n",
    "        )\n",
    "\n",
    "    outputs = trainer.predict(test_dataset)\n",
    "    prediction = outputs.predictions.reshape(-1)\n",
    "    predictions_deberta.append(prediction)\n",
    "    \n",
    "test_dataset = InferDataset(test_df)\n",
    "tokenizer = AutoTokenizer.from_pretrained(CFG_DEBERTA.model_4_path)\n",
    "model = AutoModelForSequenceClassification.from_pretrained(CFG_DEBERTA.model_4_path, num_labels=1)\n",
    "trainer = Trainer(\n",
    "        model,\n",
    "        tokenizer=tokenizer,\n",
    "    )\n",
    "\n",
    "outputs = trainer.predict(test_dataset)\n",
    "prediction = outputs.predictions.reshape(-1)\n",
    "predictions_deberta.append(prediction)\n",
    "\n",
    "predictions_deberta = np.mean(predictions_deberta, axis=0)"
   ]
  },
  {
   "cell_type": "markdown",
   "metadata": {},
   "source": [
    "# 2. electra_base_5_folds"
   ]
  },
  {
   "cell_type": "code",
   "execution_count": null,
   "metadata": {
    "execution": {
     "iopub.execute_input": "2022-05-15T13:23:04.474842Z",
     "iopub.status.busy": "2022-05-15T13:23:04.474458Z",
     "iopub.status.idle": "2022-05-15T13:23:04.480928Z",
     "shell.execute_reply": "2022-05-15T13:23:04.479814Z",
     "shell.execute_reply.started": "2022-05-15T13:23:04.474797Z"
    }
   },
   "outputs": [],
   "source": [
    "class CFG_ELECTRA:\n",
    "    input_path = '/kaggle/input/us-patent-phrase-to-phrase-matching/'\n",
    "    model_path = '/kaggle/input/electra-patent-5-folds/electra/'\n",
    "    \n",
    "    learning_rate = 2e-5\n",
    "    weight_decay = 0.01\n",
    "    num_fold = 5\n",
    "    epochs = 10\n",
    "    batch_size = 32"
   ]
  },
  {
   "cell_type": "code",
   "execution_count": null,
   "metadata": {
    "execution": {
     "iopub.execute_input": "2022-05-15T13:23:04.483585Z",
     "iopub.status.busy": "2022-05-15T13:23:04.482491Z",
     "iopub.status.idle": "2022-05-15T13:23:29.934181Z",
     "shell.execute_reply": "2022-05-15T13:23:29.933274Z",
     "shell.execute_reply.started": "2022-05-15T13:23:04.483466Z"
    }
   },
   "outputs": [],
   "source": [
    "predictions_electra = []\n",
    "\n",
    "for fold in range(CFG_ELECTRA.num_fold):\n",
    "    test_dataset = InferDataset(test_df)\n",
    "    tokenizer = AutoTokenizer.from_pretrained(CFG_ELECTRA.model_path + f'electra_{fold}/')\n",
    "    model = AutoModelForSequenceClassification.from_pretrained(CFG_ELECTRA.model_path + f'electra_{fold}/', num_labels=1)\n",
    "    trainer = Trainer(\n",
    "            model,\n",
    "            tokenizer=tokenizer,\n",
    "        )\n",
    "\n",
    "    outputs = trainer.predict(test_dataset)\n",
    "    prediction = outputs.predictions.reshape(-1)\n",
    "    predictions_electra.append(prediction)\n",
    "\n",
    "predictions_electra = np.mean(predictions_electra, axis=0)"
   ]
  },
  {
   "cell_type": "markdown",
   "metadata": {},
   "source": [
    "# 3. bert_patent_5_folds"
   ]
  },
  {
   "cell_type": "code",
   "execution_count": null,
   "metadata": {
    "execution": {
     "iopub.execute_input": "2022-05-15T13:23:29.937529Z",
     "iopub.status.busy": "2022-05-15T13:23:29.937166Z",
     "iopub.status.idle": "2022-05-15T13:23:29.944105Z",
     "shell.execute_reply": "2022-05-15T13:23:29.942174Z",
     "shell.execute_reply.started": "2022-05-15T13:23:29.937484Z"
    }
   },
   "outputs": [],
   "source": [
    "class CFG_BERT_PATENT:\n",
    "    input_path = '/kaggle/input/us-patent-phrase-to-phrase-matching/'\n",
    "    model_path = '/kaggle/input/bert-patent-5-folds/'\n",
    "    \n",
    "    learning_rate = 2e-5\n",
    "    weight_decay = 0.01\n",
    "    num_fold = 5\n",
    "    epochs = 5\n",
    "    batch_size = 32"
   ]
  },
  {
   "cell_type": "code",
   "execution_count": null,
   "metadata": {
    "execution": {
     "iopub.execute_input": "2022-05-15T13:23:29.946515Z",
     "iopub.status.busy": "2022-05-15T13:23:29.945923Z",
     "iopub.status.idle": "2022-05-15T13:24:39.478956Z",
     "shell.execute_reply": "2022-05-15T13:24:39.477949Z",
     "shell.execute_reply.started": "2022-05-15T13:23:29.946415Z"
    }
   },
   "outputs": [],
   "source": [
    "predictions_bert_patent = []\n",
    "\n",
    "for fold in range(CFG_BERT_PATENT.num_fold):\n",
    "    test_dataset = InferDataset(test_df)\n",
    "    tokenizer = AutoTokenizer.from_pretrained(CFG_BERT_PATENT.model_path + f'bert_patent_{fold}/')\n",
    "    model = AutoModelForSequenceClassification.from_pretrained(CFG_BERT_PATENT.model_path + f'bert_patent_{fold}/', num_labels=1)\n",
    "    trainer = Trainer(\n",
    "            model,\n",
    "            tokenizer=tokenizer,\n",
    "        )\n",
    "\n",
    "    outputs = trainer.predict(test_dataset)\n",
    "    prediction = outputs.predictions.reshape(-1)\n",
    "    predictions_bert_patent.append(prediction)\n",
    "\n",
    "predictions_bert_patent = np.mean(predictions_bert_patent, axis=0)"
   ]
  },
  {
   "cell_type": "markdown",
   "metadata": {},
   "source": [
    "# Submission"
   ]
  },
  {
   "cell_type": "code",
   "execution_count": null,
   "metadata": {
    "execution": {
     "iopub.execute_input": "2022-05-15T13:24:39.481384Z",
     "iopub.status.busy": "2022-05-15T13:24:39.480516Z",
     "iopub.status.idle": "2022-05-15T13:24:39.486938Z",
     "shell.execute_reply": "2022-05-15T13:24:39.48575Z",
     "shell.execute_reply.started": "2022-05-15T13:24:39.481337Z"
    }
   },
   "outputs": [],
   "source": [
    "w1 = 0.6\n",
    "w2 = 0.2\n",
    "w3 = 0.2"
   ]
  },
  {
   "cell_type": "code",
   "execution_count": null,
   "metadata": {
    "execution": {
     "iopub.execute_input": "2022-05-15T13:24:39.489206Z",
     "iopub.status.busy": "2022-05-15T13:24:39.488794Z",
     "iopub.status.idle": "2022-05-15T13:24:39.502033Z",
     "shell.execute_reply": "2022-05-15T13:24:39.501061Z",
     "shell.execute_reply.started": "2022-05-15T13:24:39.489162Z"
    }
   },
   "outputs": [],
   "source": [
    "from sklearn.preprocessing import MinMaxScaler\n",
    "\n",
    "MMscaler = MinMaxScaler()\n",
    "\n",
    "pred1_mm = MMscaler.fit_transform(predictions_deberta.reshape(-1,1)).reshape(-1)\n",
    "pred2_mm = MMscaler.fit_transform(predictions_electra.reshape(-1,1)).reshape(-1)\n",
    "pred3_mm = MMscaler.fit_transform(predictions_bert_patent.reshape(-1,1)).reshape(-1)\n",
    "\n",
    "final_predictions =  pred1_mm * w1 + pred2_mm * w2 + pred3_mm * w3"
   ]
  },
  {
   "cell_type": "code",
   "execution_count": null,
   "metadata": {
    "execution": {
     "iopub.execute_input": "2022-05-15T13:24:39.50429Z",
     "iopub.status.busy": "2022-05-15T13:24:39.503709Z",
     "iopub.status.idle": "2022-05-15T13:24:39.631011Z",
     "shell.execute_reply": "2022-05-15T13:24:39.629966Z",
     "shell.execute_reply.started": "2022-05-15T13:24:39.504246Z"
    }
   },
   "outputs": [],
   "source": [
    "submission = datasets.Dataset.from_dict({\n",
    "    'id': test_df['id'],\n",
    "    'score': final_predictions,\n",
    "})\n",
    "\n",
    "submission.to_csv('submission.csv', index=False)"
   ]
  },
  {
   "cell_type": "code",
   "execution_count": null,
   "metadata": {
    "execution": {
     "iopub.execute_input": "2022-05-15T13:25:03.816328Z",
     "iopub.status.busy": "2022-05-15T13:25:03.816033Z",
     "iopub.status.idle": "2022-05-15T13:25:03.823572Z",
     "shell.execute_reply": "2022-05-15T13:25:03.822407Z",
     "shell.execute_reply.started": "2022-05-15T13:25:03.816297Z"
    }
   },
   "outputs": [],
   "source": [
    "submission"
   ]
  }
 ],
 "metadata": {
  "kernelspec": {
   "display_name": "Python 3",
   "language": "python",
   "name": "python3"
  },
  "language_info": {
   "codemirror_mode": {
    "name": "ipython",
    "version": 3
   },
   "file_extension": ".py",
   "mimetype": "text/x-python",
   "name": "python",
   "nbconvert_exporter": "python",
   "pygments_lexer": "ipython3",
   "version": "3.8.8"
  }
 },
 "nbformat": 4,
 "nbformat_minor": 4
}
