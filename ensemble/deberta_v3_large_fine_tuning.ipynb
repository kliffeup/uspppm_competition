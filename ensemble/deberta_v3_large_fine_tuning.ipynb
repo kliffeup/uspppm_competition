{
 "cells": [
  {
   "cell_type": "markdown",
   "metadata": {
    "id": "EYzR3gtt2oSI"
   },
   "source": [
    "# BERT for Patents Baseline\n",
    "\n",
    "- [kfold strategy](https://www.kaggle.com/code/abhishek/phrase-matching-folds)\n",
    "- Utilize [Cooperative Patent Classification Codes Meaning](https://www.kaggle.com/datasets/xhlulu/cpc-codes)\n",
    "- reference [phantivia'Notebook](https://www.kaggle.com/code/phantivia/uspppm-huggingface-train-inference-baseline)\n",
    "- [BERT for Patents](https://www.kaggle.com/datasets/ksork6s4/bert-for-patents) from [huggingface page](https://huggingface.co/anferico/bert-for-patents)\n",
    "\n",
    "\n",
    "### Please refer to [Inference Notebook](https://www.kaggle.com/code/ksork6s4/uspppm-bert-for-patents-baseline-inference/edit/run/91272728) as well."
   ]
  },
  {
   "cell_type": "code",
   "execution_count": 1,
   "metadata": {
    "execution": {
     "iopub.execute_input": "2022-05-14T16:23:45.367841Z",
     "iopub.status.busy": "2022-05-14T16:23:45.367522Z",
     "iopub.status.idle": "2022-05-14T16:23:53.303917Z",
     "shell.execute_reply": "2022-05-14T16:23:53.303151Z",
     "shell.execute_reply.started": "2022-05-14T16:23:45.367753Z"
    },
    "id": "KXDf_yHV2oSK"
   },
   "outputs": [],
   "source": [
    "import os\n",
    "import pandas as pd\n",
    "import numpy as np\n",
    "from sklearn.model_selection import KFold, StratifiedKFold\n",
    "import shutil\n",
    "\n",
    "from torch.utils.data import DataLoader, Dataset\n",
    "import transformers\n",
    "from transformers import TrainingArguments, Trainer\n",
    "from transformers import AutoModelForSequenceClassification, AutoTokenizer\n",
    "\n",
    "os.environ['WANDB_DISABLED'] = 'true'"
   ]
  },
  {
   "cell_type": "markdown",
   "metadata": {
    "id": "lk2blTmR2oSM"
   },
   "source": [
    "# Config"
   ]
  },
  {
   "cell_type": "code",
   "execution_count": 2,
   "metadata": {
    "execution": {
     "iopub.execute_input": "2022-05-14T16:23:53.306127Z",
     "iopub.status.busy": "2022-05-14T16:23:53.305794Z",
     "iopub.status.idle": "2022-05-14T16:23:53.311417Z",
     "shell.execute_reply": "2022-05-14T16:23:53.310457Z",
     "shell.execute_reply.started": "2022-05-14T16:23:53.306086Z"
    },
    "id": "CUsMqgaX2oSM"
   },
   "outputs": [],
   "source": [
    "class CFG:\n",
    "    input_path = '/kaggle/input/us-patent-phrase-to-phrase-matching/'\n",
    "    model_path = '/kaggle/input/deberta-v3-large/deberta-v3-large/'\n",
    "    \n",
    "    learning_rate = 2e-5\n",
    "    weight_decay = 0.01\n",
    "    num_fold = 5\n",
    "    epochs = 7\n",
    "    batch_size = 10"
   ]
  },
  {
   "cell_type": "markdown",
   "metadata": {
    "id": "UWhzEgyJ2oSN"
   },
   "source": [
    "# Preprocessing"
   ]
  },
  {
   "cell_type": "code",
   "execution_count": 3,
   "metadata": {
    "execution": {
     "iopub.execute_input": "2022-05-14T16:23:53.313517Z",
     "iopub.status.busy": "2022-05-14T16:23:53.313030Z",
     "iopub.status.idle": "2022-05-14T16:23:54.297910Z",
     "shell.execute_reply": "2022-05-14T16:23:54.297118Z",
     "shell.execute_reply.started": "2022-05-14T16:23:53.313478Z"
    },
    "id": "Eht6Jj132oSN"
   },
   "outputs": [],
   "source": [
    "from pandas.core.common import random_state\n",
    "train_df = pd.read_csv(f'{CFG.input_path}train.csv')\n",
    "titles = pd.read_csv('/kaggle/input/cpc-codes/titles.csv')\n",
    "train_df = train_df.merge(titles, left_on='context', right_on='code')\n",
    "\n",
    "# https://www.kaggle.com/code/abhishek/phrase-matching-folds\n",
    "def create_folds(data, num_splits):\n",
    "    # we create a new column called kfold and fill it with -1\n",
    "    data['fold'] = -1\n",
    "    \n",
    "    # the next step is to randomize the rows of the data\n",
    "    data = data.sample(frac=1, random_state=42).reset_index(drop=True)\n",
    "\n",
    "    # calculate number of bins by Sturge's rule\n",
    "    # I take the floor of the value, you can also\n",
    "    # just round it\n",
    "    # 16\n",
    "    # num_bins = int(np.floor(1 + np.log2(len(data))))\n",
    "    \n",
    "    # bin targets\n",
    "    data.loc[:, 'bins'] = pd.cut(\n",
    "        data['score'], bins=5, labels=False\n",
    "    )\n",
    "    \n",
    "    # initiate the kfold class from model_selection module\n",
    "    kf = StratifiedKFold(n_splits=num_splits, shuffle=True, random_state=42)\n",
    "    \n",
    "    # fill the new kfold column\n",
    "    # note that, instead of targets, we use bins!\n",
    "    for f, (t_, v_) in enumerate(kf.split(X=data, y=data.bins.values)):\n",
    "        data.loc[v_, 'fold'] = f\n",
    "    \n",
    "    # drop the bins column\n",
    "    data = data.drop('bins', axis=1)\n",
    "\n",
    "    # return dataframe with folds\n",
    "    return data"
   ]
  },
  {
   "cell_type": "code",
   "execution_count": 4,
   "metadata": {
    "execution": {
     "iopub.execute_input": "2022-05-14T16:23:54.300335Z",
     "iopub.status.busy": "2022-05-14T16:23:54.300051Z",
     "iopub.status.idle": "2022-05-14T16:23:54.373697Z",
     "shell.execute_reply": "2022-05-14T16:23:54.372960Z",
     "shell.execute_reply.started": "2022-05-14T16:23:54.300296Z"
    },
    "id": "3RBsMm9J2oSO"
   },
   "outputs": [],
   "source": [
    "train_df['input'] = train_df['title'] + ' ' + train_df['anchor']\n",
    "train_df = create_folds(train_df, CFG.num_fold)"
   ]
  },
  {
   "cell_type": "markdown",
   "metadata": {
    "id": "JKECnAQC2oSO"
   },
   "source": [
    "# Tokenizer"
   ]
  },
  {
   "cell_type": "code",
   "execution_count": 5,
   "metadata": {
    "execution": {
     "iopub.execute_input": "2022-05-14T16:23:54.375506Z",
     "iopub.status.busy": "2022-05-14T16:23:54.375225Z",
     "iopub.status.idle": "2022-05-14T16:23:54.562494Z",
     "shell.execute_reply": "2022-05-14T16:23:54.560657Z",
     "shell.execute_reply.started": "2022-05-14T16:23:54.375467Z"
    },
    "id": "bapX0UV42oSO",
    "outputId": "2430fd0d-282e-4e39-97c2-4bd7acad592f"
   },
   "outputs": [],
   "source": [
    "tokenizer = AutoTokenizer.from_pretrained(CFG.model_path)"
   ]
  },
  {
   "cell_type": "markdown",
   "metadata": {
    "id": "nGYSnnx_2oSO"
   },
   "source": [
    "# Dataset"
   ]
  },
  {
   "cell_type": "code",
   "execution_count": 6,
   "metadata": {
    "execution": {
     "iopub.execute_input": "2022-05-14T16:23:54.565766Z",
     "iopub.status.busy": "2022-05-14T16:23:54.565238Z",
     "iopub.status.idle": "2022-05-14T16:23:54.575403Z",
     "shell.execute_reply": "2022-05-14T16:23:54.574452Z",
     "shell.execute_reply.started": "2022-05-14T16:23:54.565724Z"
    },
    "id": "kqFQkRZK2oSP"
   },
   "outputs": [],
   "source": [
    "class TrainDataset(Dataset):\n",
    "    def __init__(self, df):\n",
    "        self.inputs = df['input'].values.astype(str)\n",
    "        self.targets = df['target'].values.astype(str)\n",
    "        self.label = df['score'].values\n",
    "\n",
    "    def __len__(self):\n",
    "        return len(self.inputs)\n",
    "\n",
    "    def __getitem__(self, item):\n",
    "        inputs = self.inputs[item]\n",
    "        targets = self.targets[item]\n",
    "        label = self.label[item]\n",
    "        \n",
    "        return {\n",
    "        **tokenizer( inputs, targets ),\n",
    "        'label':label.astype(np.float32)\n",
    "    }"
   ]
  },
  {
   "cell_type": "markdown",
   "metadata": {
    "id": "xrsxrrXm2oSP"
   },
   "source": [
    "# Train"
   ]
  },
  {
   "cell_type": "code",
   "execution_count": 7,
   "metadata": {
    "execution": {
     "iopub.execute_input": "2022-05-14T16:23:54.577709Z",
     "iopub.status.busy": "2022-05-14T16:23:54.577358Z",
     "iopub.status.idle": "2022-05-14T16:23:54.586273Z",
     "shell.execute_reply": "2022-05-14T16:23:54.585324Z",
     "shell.execute_reply.started": "2022-05-14T16:23:54.577669Z"
    },
    "id": "2s6wICM_2oSP"
   },
   "outputs": [],
   "source": [
    "def compute_metrics(eval_pred):\n",
    "    predictions, labels = eval_pred\n",
    "    predictions = predictions.reshape(len(predictions))\n",
    "    return {\n",
    "        'pearson': np.corrcoef(predictions, labels)[0][1]\n",
    "    }"
   ]
  },
  {
   "cell_type": "code",
   "execution_count": 8,
   "metadata": {
    "execution": {
     "iopub.execute_input": "2022-05-14T16:23:54.588382Z",
     "iopub.status.busy": "2022-05-14T16:23:54.588064Z",
     "iopub.status.idle": "2022-05-14T16:23:54.595987Z",
     "shell.execute_reply": "2022-05-14T16:23:54.594993Z",
     "shell.execute_reply.started": "2022-05-14T16:23:54.588343Z"
    },
    "id": "9AVE9nVZHb2R"
   },
   "outputs": [],
   "source": [
    "def model_init():\n",
    "    return AutoModelForSequenceClassification.from_pretrained(CFG.model_path, num_labels=1)"
   ]
  },
  {
   "cell_type": "code",
   "execution_count": 9,
   "metadata": {
    "execution": {
     "iopub.execute_input": "2022-05-14T16:23:54.598364Z",
     "iopub.status.busy": "2022-05-14T16:23:54.597430Z",
     "iopub.status.idle": "2022-05-14T16:23:55.207552Z",
     "shell.execute_reply": "2022-05-14T16:23:55.206808Z",
     "shell.execute_reply.started": "2022-05-14T16:23:54.598319Z"
    }
   },
   "outputs": [],
   "source": [
    "from ray import tune\n",
    "\n",
    "def get_trial_params(trial):\n",
    "    return {\n",
    "            'learning_rate': tune.loguniform(1e-6, 1e-4),\n",
    "            'num_train_epochs': tune.choice(list(range(1, 2))),\n",
    "            'seed': tune.uniform(1, 40),\n",
    "            'per_device_train_batch_size': tune.choice([10, ]),\n",
    "        }"
   ]
  },
  {
   "cell_type": "code",
   "execution_count": 10,
   "metadata": {
    "execution": {
     "iopub.execute_input": "2022-05-14T16:23:55.211815Z",
     "iopub.status.busy": "2022-05-14T16:23:55.211239Z",
     "iopub.status.idle": "2022-05-14T18:36:32.828157Z",
     "shell.execute_reply": "2022-05-14T18:36:32.826235Z",
     "shell.execute_reply.started": "2022-05-14T16:23:55.211772Z"
    },
    "id": "jHA41zFt2oSP",
    "outputId": "99ba2c85-f59f-4d90-afd9-096a8cdc3f8c"
   },
   "outputs": [],
   "source": [
    "from ray.tune.suggest.hyperopt import HyperOptSearch\n",
    "from ray.tune.schedulers import ASHAScheduler\n",
    "\n",
    "\n",
    "oof_df = pd.DataFrame()\n",
    "for fold in range(CFG.num_fold):\n",
    "    tr_data = train_df[train_df['fold'] != fold].reset_index(drop=True)\n",
    "    va_data = train_df[train_df['fold'] == fold].reset_index(drop=True)\n",
    "    tr_dataset = TrainDataset(tr_data)\n",
    "    va_dataset = TrainDataset(va_data)\n",
    "    \n",
    "    args = TrainingArguments(\n",
    "        output_dir=f'/tmp/deberta',\n",
    "        evaluation_strategy='epoch',\n",
    "        save_strategy='epoch',\n",
    "        weight_decay=CFG.weight_decay,\n",
    "        metric_for_best_model='pearson',\n",
    "        load_best_model_at_end=True,\n",
    "    )\n",
    "    \n",
    "    trainer = Trainer(\n",
    "        args=args,\n",
    "        train_dataset=tr_dataset,\n",
    "        eval_dataset=va_dataset,\n",
    "        tokenizer=tokenizer,\n",
    "        model_init=model_init,\n",
    "        compute_metrics=compute_metrics,\n",
    "    )\n",
    "    \n",
    "    best_trial = trainer.hyperparameter_search(\n",
    "        hp_space=get_trial_params,\n",
    "        n_trials=3,\n",
    "        direction='maximize',\n",
    "        backend='ray',\n",
    "        search_alg=HyperOptSearch(metric='objective', mode='max'),\n",
    "        scheduler=ASHAScheduler(metric='objective', mode='max'),\n",
    "    )\n",
    "    \n",
    "    args = TrainingArguments(\n",
    "        output_dir=f'/tmp/deberta',\n",
    "        evaluation_strategy='epoch',\n",
    "        save_strategy='epoch',\n",
    "        num_train_epochs=CFG.epochs,\n",
    "        weight_decay=CFG.weight_decay,\n",
    "        metric_for_best_model='pearson',\n",
    "        load_best_model_at_end=True,\n",
    "    )\n",
    "    \n",
    "    model = AutoModelForSequenceClassification.from_pretrained(CFG.model_path, num_labels=1)\n",
    "    trainer = Trainer(\n",
    "        model,\n",
    "        args,\n",
    "        train_dataset=tr_dataset,\n",
    "        eval_dataset=va_dataset,\n",
    "        tokenizer=tokenizer,\n",
    "        compute_metrics=compute_metrics,\n",
    "    )\n",
    "    \n",
    "    trainer.train(resume_from_checkpoint=f'/tmp/deberta/run-{best_trial.run_id}/checkpoint-2918/')\n",
    "    shutil.rmtree(f'/tmp/deberta')\n",
    "    trainer.save_model(f'deberta_{fold}')\n",
    "    \n",
    "    outputs = trainer.predict(va_dataset)\n",
    "    predictions = outputs.predictions.reshape(-1)\n",
    "    va_data['preds'] = predictions\n",
    "    oof_df = pd.concat([oof_df, va_data])"
   ]
  },
  {
   "cell_type": "code",
   "execution_count": 13,
   "metadata": {
    "execution": {
     "iopub.execute_input": "2022-05-14T18:38:11.128138Z",
     "iopub.status.busy": "2022-05-14T18:38:11.126236Z",
     "iopub.status.idle": "2022-05-14T18:38:11.136760Z",
     "shell.execute_reply": "2022-05-14T18:38:11.135735Z",
     "shell.execute_reply.started": "2022-05-14T18:38:11.128082Z"
    }
   },
   "outputs": [],
   "source": [
    "%cd /kaggle/working"
   ]
  },
  {
   "cell_type": "code",
   "execution_count": 14,
   "metadata": {
    "execution": {
     "iopub.execute_input": "2022-05-14T18:38:16.547411Z",
     "iopub.status.busy": "2022-05-14T18:38:16.547059Z",
     "iopub.status.idle": "2022-05-14T18:38:16.557792Z",
     "shell.execute_reply": "2022-05-14T18:38:16.557017Z",
     "shell.execute_reply.started": "2022-05-14T18:38:16.547376Z"
    }
   },
   "outputs": [],
   "source": [
    "from IPython.display import FileLink\n",
    "\n",
    "FileLink(f'deberta_4/pytorch_model.bin')"
   ]
  }
 ],
 "metadata": {
  "kernelspec": {
   "display_name": "Python 3",
   "language": "python",
   "name": "python3"
  },
  "language_info": {
   "codemirror_mode": {
    "name": "ipython",
    "version": 3
   },
   "file_extension": ".py",
   "mimetype": "text/x-python",
   "name": "python",
   "nbconvert_exporter": "python",
   "pygments_lexer": "ipython3",
   "version": "3.8.8"
  }
 },
 "nbformat": 4,
 "nbformat_minor": 4
}
